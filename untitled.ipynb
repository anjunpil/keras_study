{
  "nbformat": 4,
  "nbformat_minor": 0,
  "metadata": {
    "colab": {
      "name": ".ipynb",
      "provenance": [],
      "authorship_tag": "ABX9TyM0sq/NPQKQyXL3EJcP7pQc",
      "include_colab_link": true
    },
    "kernelspec": {
      "name": "python3",
      "display_name": "Python 3"
    }
  },
  "cells": [
    {
      "cell_type": "markdown",
      "metadata": {
        "id": "view-in-github",
        "colab_type": "text"
      },
      "source": [
        "<a href=\"https://colab.research.google.com/github/anjunpil/keras_study/blob/master/untitled.ipynb\" target=\"_parent\"><img src=\"https://colab.research.google.com/assets/colab-badge.svg\" alt=\"Open In Colab\"/></a>"
      ]
    },
    {
      "cell_type": "code",
      "metadata": {
        "id": "vK7Sao_pvm3R",
        "colab_type": "code",
        "colab": {}
      },
      "source": [
        "# \n",
        "import random\n",
        "\n",
        "# 방향성을 가진 class 생성\n",
        "class Gridworld():\n",
        "  def __init__(self):\n",
        "    self.x =0\n",
        "    self.y =0\n",
        "    self.history=[]\n",
        "\n",
        "  def move_right(self):\n",
        "      self.y+=1\n",
        "      if self.y >3:\n",
        "        self.y =3\n",
        "\n",
        "  def move_left(self):\n",
        "      self.y-=1\n",
        "      if self.y < 0:\n",
        "        self.y=0\n",
        "\n",
        "  def move_up(self):\n",
        "      self.x-=1\n",
        "      if self.x <0:\n",
        "        self.x =0\n",
        "\n",
        "  def move_down(self):\n",
        "      self.x+=1\n",
        "      if self.x >3:\n",
        "       self.x =3\n",
        "\n",
        "  def move_random(self):\n",
        "    coin = random.randint(0,3)\n",
        "    if coin == 0:\n",
        "      self.move_right()\n",
        "    elif coin ==1:\n",
        "      self.move_left()\n",
        "\n",
        "    elif coin ==2:\n",
        "      self.move_up()\n",
        "    else:\n",
        "      self.move_down()\n",
        "    \n",
        "    self.history.append((self.x,self.y))\n",
        "    \n",
        "  def move_random_until_end(self):\n",
        "    while True:\n",
        "      self.move_random()\n",
        "      # 3,3 까지 갈 함수를 구함\n",
        "      if self.x ==3 and self.y==3:\n",
        "        history = self.history\n",
        "        self.initialize()\n",
        "        return history\n",
        "    \n",
        "  def initialize(self):\n",
        "    self.x= 0\n",
        "    self.y =0\n",
        "    self.history =[]"
      ],
      "execution_count": 0,
      "outputs": []
    },
    {
      "cell_type": "code",
      "metadata": {
        "id": "RmiYxaLRvq3i",
        "colab_type": "code",
        "colab": {
          "base_uri": "https://localhost:8080/",
          "height": 647
        },
        "outputId": "9e42a5ba-8075-4707-cd97-93c173663f6d"
      },
      "source": [
        "# TD 학습\n",
        "\n",
        "data =[[0,0,0,0],[0,0,0,0],[0,0,0,0],[0,0,0,0]]\n",
        "env = Gridworld()\n",
        "\n",
        "#episode 횟수\n",
        "n=1\n",
        "for i in range(5):\n",
        "  for k in range(n):\n",
        "    history = env.move_random_until_end()\n",
        "    cum_reward=0\n",
        "\n",
        "    for j in range(len(history)-1):\n",
        "      x,y = history[j]\n",
        "      next_x,next_y = history[j+1]\n",
        "      # -1 은 reward 값\n",
        "      data[x][y] = 0.999*data[x][y] +0.001*(-1+data[next_x][next_y])\n",
        "  \n",
        "  print(f\"episode ={n}\")\n",
        "  for row in range(len(data)):\n",
        "    print(\"\")\n",
        "    for row2 in data[row]:\n",
        "      print(round(row2,3),end=\"\\t\")\n",
        "      #print(100*row2,end='\\t')\n",
        "  print()\n",
        "  print()\n",
        "  n=int(str(n)+\"0\")\n",
        "  "
      ],
      "execution_count": 18,
      "outputs": [
        {
          "output_type": "stream",
          "text": [
            "episode =1\n",
            "\n",
            "-0.005\t-0.003\t0\t0\t\n",
            "-0.01\t-0.004\t0\t0\t\n",
            "-0.01\t-0.006\t-0.003\t-0.007\t\n",
            "-0.013\t-0.002\t0\t0\t\n",
            "\n",
            "episode =10\n",
            "\n",
            "-0.067\t-0.062\t-0.034\t-0.031\t\n",
            "-0.066\t-0.049\t-0.027\t-0.02\t\n",
            "-0.062\t-0.038\t-0.028\t-0.017\t\n",
            "-0.061\t-0.029\t-0.029\t0\t\n",
            "\n",
            "episode =100\n",
            "\n",
            "-0.675\t-0.613\t-0.464\t-0.349\t\n",
            "-0.593\t-0.526\t-0.426\t-0.315\t\n",
            "-0.474\t-0.429\t-0.338\t-0.207\t\n",
            "-0.428\t-0.355\t-0.226\t0\t\n",
            "\n",
            "episode =1000\n",
            "\n",
            "-5.941\t-5.362\t-4.536\t-3.962\t\n",
            "-5.327\t-4.811\t-3.966\t-3.392\t\n",
            "-4.552\t-4.084\t-3.137\t-2.169\t\n",
            "-4.08\t-3.453\t-2.18\t0\t\n",
            "\n",
            "episode =10000\n",
            "\n",
            "-35.078\t-33.631\t-31.447\t-29.582\t\n",
            "-33.579\t-31.758\t-28.575\t-25.602\t\n",
            "-31.415\t-28.667\t-23.388\t-16.89\t\n",
            "-29.703\t-25.731\t-17.487\t0\t\n",
            "\n"
          ],
          "name": "stdout"
        }
      ]
    }
  ]
}