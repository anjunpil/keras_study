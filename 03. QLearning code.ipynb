{
  "nbformat": 4,
  "nbformat_minor": 0,
  "metadata": {
    "colab": {
      "name": "Untitled37.ipynb",
      "provenance": [],
      "authorship_tag": "ABX9TyNQCzfkG+O9jmmH2zLWTa75",
      "include_colab_link": true
    },
    "kernelspec": {
      "name": "python3",
      "display_name": "Python 3"
    }
  },
  "cells": [
    {
      "cell_type": "markdown",
      "metadata": {
        "id": "view-in-github",
        "colab_type": "text"
      },
      "source": [
        "<a href=\"https://colab.research.google.com/github/anjunpil/keras_study/blob/master/QLearning%20code.ipynb\" target=\"_parent\"><img src=\"https://colab.research.google.com/assets/colab-badge.svg\" alt=\"Open In Colab\"/></a>"
      ]
    },
    {
      "cell_type": "code",
      "metadata": {
        "id": "KJ81N0vO6hEp",
        "colab_type": "code",
        "colab": {
          "base_uri": "https://localhost:8080/",
          "height": 409
        },
        "outputId": "952c29d4-4eb9-4cb1-ac7a-7e8f9fe2ff79"
      },
      "source": [
        "import gym\n",
        "#import tensorflow\n",
        "from gym.envs.registration import register\n",
        "import matplotlib.pyplot as plt\n",
        "import random as pr\n",
        "import sys\n",
        "import numpy as np\n",
        "\n",
        "\n",
        "def rargmax(vector):\n",
        "    \n",
        "    m = np.amax(vector)\n",
        "    indices = np.nonzero(vector == m)[0]\n",
        "    return pr.choice(indices)\n",
        "\n",
        "\n",
        "'''\n",
        "\n",
        "env = gym.make(\"FrozenLake-v0\")\n",
        "#환경 초기화\n",
        "observation= env.reset()\n",
        "\n",
        "for _ in range(1000):\n",
        "    #env.render() 화면 출력\n",
        "    env.render()\n",
        "    #환경에 따른 action을 설정\n",
        "    action = env.action_space.sample()\n",
        "    #done = gameover인지 아닌지를 알려줌\n",
        "    #info = 추가정보가 있을때 추가정보를 알려줌\n",
        "    observation,reward,done,info = env.step(action)\n",
        "'''\n",
        "\n",
        "LEFT =0\n",
        "DOWN =1\n",
        "RIGHT =2\n",
        "UP =3\n",
        "\n",
        "#코드를 입력받으면 action을 취한다\n",
        "arrow_keys={\n",
        "    '\\x1b[A':UP,\n",
        "    '\\x1b[B':DOWN,\n",
        "    '\\x1b[C':RIGHT,\n",
        "    '\\x1b[D':LEFT,\n",
        "}\n",
        "\n",
        "\n",
        "register(\n",
        "    id = \"FrozenLake-v7\",\n",
        "    entry_point =\"gym.envs.toy_text:FrozenLakeEnv\",\n",
        "    kwargs = {\"map_name\" : \"4x4\",\"is_slippery\" : False}\n",
        ")\n",
        "\n",
        "env = gym.make(\"FrozenLake-v7\")\n",
        "env.render()\n",
        "\n",
        "num_episodes = 2000\n",
        "\n",
        "\n",
        "Q = np.zeros((env.observation_space.n,env.action_space.n))\n",
        "\n",
        "rList=[]\n",
        "\n",
        "for i in range(num_episodes):\n",
        "    state = env.reset()\n",
        "    rAll =0\n",
        "    done = False\n",
        "    \n",
        "    while not done:\n",
        "        #random 한 방향으로 나아간다\n",
        "        action = rargmax(Q[state,:])\n",
        "        \n",
        "        new_state, reward ,done,_ = env.step(action)\n",
        "        \n",
        "        Q[state,action] = reward +np.max(Q[new_state,:])\n",
        "        \n",
        "        rAll += reward        \n",
        "        state =  new_state\n",
        "        \n",
        "    rList.append(rAll)\n",
        "    \n",
        "\n",
        "print(\"success rate : \" + str(sum(rList)/num_episodes))\n",
        "print(\"Final Q-Table Values\")\n",
        "print(\"LEFT DOWN RIGHT UP\")\n",
        "plt.bar(range(len(rList)),rList,color='blue')\n",
        "plt.show()\n",
        "\n",
        "        \n",
        "    "
      ],
      "execution_count": 2,
      "outputs": [
        {
          "output_type": "stream",
          "text": [
            "\n",
            "\u001b[41mS\u001b[0mFFF\n",
            "FHFH\n",
            "FFFH\n",
            "HFFG\n",
            "success rate : 0.976\n",
            "Final Q-Table Values\n",
            "LEFT DOWN RIGHT UP\n"
          ],
          "name": "stdout"
        },
        {
          "output_type": "display_data",
          "data": {
            "image/png": "[encoded data removed]",
            "text/plain": [
              "<Figure size 432x288 with 1 Axes>"
            ]
          },
          "metadata": {
            "tags": [],
            "needs_background": "light"
          }
        }
      ]
    },
    {
      "cell_type": "code",
      "metadata": {
        "id": "giZ8lNeO6oIu",
        "colab_type": "code",
        "colab": {}
      },
      "source": [
        ""
      ],
      "execution_count": 0,
      "outputs": []
    }
  ]
}
