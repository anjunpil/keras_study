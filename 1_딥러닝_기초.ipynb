{
  "nbformat": 4,
  "nbformat_minor": 0,
  "metadata": {
    "colab": {
      "name": "1.딥러닝 기초",
      "provenance": [],
      "collapsed_sections": [],
      "authorship_tag": "ABX9TyNwUZi56y3HOJkXd7M1T/fI",
      "include_colab_link": true
    },
    "kernelspec": {
      "name": "python3",
      "display_name": "Python 3"
    }
  },
  "cells": [
    {
      "cell_type": "markdown",
      "metadata": {
        "id": "view-in-github",
        "colab_type": "text"
      },
      "source": [
        "<a href=\"https://colab.research.google.com/github/anjunpil/keras_study/blob/master/1_%EB%94%A5%EB%9F%AC%EB%8B%9D_%EA%B8%B0%EC%B4%88.ipynb\" target=\"_parent\"><img src=\"https://colab.research.google.com/assets/colab-badge.svg\" alt=\"Open In Colab\"/></a>"
      ]
    },
    {
      "cell_type": "code",
      "metadata": {
        "id": "PhFGSl2XnauS",
        "colab_type": "code",
        "colab": {}
      },
      "source": [
        "from keras.datasets import mnist\n",
        "from keras import models,layers\n",
        "from keras.utils import to_categorical\n",
        "(train_images,train_labels),(test_images,test_labels)=mnist.load_data()\n",
        "\n",
        "network =models.Sequential()\n",
        "network.add(layers.Dense(512,activation ='relu',input_shape=(28*28,)))\n",
        "network.add(layers.Dense(10,activation='softmax'))\n",
        "\n",
        "network.compile(optimizer='rmsprop',\n",
        "                loss='categorical_crossentropy',\n",
        "                metrics=['accuracy'])"
      ],
      "execution_count": 0,
      "outputs": []
    },
    {
      "cell_type": "code",
      "metadata": {
        "id": "I3VqgtlGYIYz",
        "colab_type": "code",
        "colab": {}
      },
      "source": [
        "\n",
        "train_images =train_images.reshape(60000,28*28)\n",
        "train_images =train_images.astype('float32')/255 #0 과 1사이의 값으로 바꿔줌\n",
        "\n",
        "test_images =test_images.reshape(10000,28*28)\n",
        "test_images =test_images.astype('float32')/255\n",
        "\n",
        "train_labels=to_categorical(train_labels)\n",
        "test_labels=to_categorical(test_labels)\n"
      ],
      "execution_count": 0,
      "outputs": []
    },
    {
      "cell_type": "code",
      "metadata": {
        "id": "PNaQwCRCY0Il",
        "colab_type": "code",
        "colab": {
          "base_uri": "https://localhost:8080/",
          "height": 577
        },
        "outputId": "cb3f79a8-ffb8-4816-aa6a-1b039544d307"
      },
      "source": [
        "network.fit(train_images,train_labels,epochs=5,batch_size=128)"
      ],
      "execution_count": 217,
      "outputs": [
        {
          "output_type": "stream",
          "text": [
            "WARNING:tensorflow:From /tensorflow-1.15.2/python3.6/tensorflow_core/python/ops/math_grad.py:1424: where (from tensorflow.python.ops.array_ops) is deprecated and will be removed in a future version.\n",
            "Instructions for updating:\n",
            "Use tf.where in 2.0, which has the same broadcast rule as np.where\n",
            "WARNING:tensorflow:From /usr/local/lib/python3.6/dist-packages/keras/backend/tensorflow_backend.py:1033: The name tf.assign_add is deprecated. Please use tf.compat.v1.assign_add instead.\n",
            "\n",
            "WARNING:tensorflow:From /usr/local/lib/python3.6/dist-packages/keras/backend/tensorflow_backend.py:1020: The name tf.assign is deprecated. Please use tf.compat.v1.assign instead.\n",
            "\n",
            "WARNING:tensorflow:From /usr/local/lib/python3.6/dist-packages/keras/backend/tensorflow_backend.py:3005: The name tf.Session is deprecated. Please use tf.compat.v1.Session instead.\n",
            "\n",
            "Epoch 1/5\n",
            "WARNING:tensorflow:From /usr/local/lib/python3.6/dist-packages/keras/backend/tensorflow_backend.py:190: The name tf.get_default_session is deprecated. Please use tf.compat.v1.get_default_session instead.\n",
            "\n",
            "WARNING:tensorflow:From /usr/local/lib/python3.6/dist-packages/keras/backend/tensorflow_backend.py:197: The name tf.ConfigProto is deprecated. Please use tf.compat.v1.ConfigProto instead.\n",
            "\n",
            "WARNING:tensorflow:From /usr/local/lib/python3.6/dist-packages/keras/backend/tensorflow_backend.py:207: The name tf.global_variables is deprecated. Please use tf.compat.v1.global_variables instead.\n",
            "\n",
            "WARNING:tensorflow:From /usr/local/lib/python3.6/dist-packages/keras/backend/tensorflow_backend.py:216: The name tf.is_variable_initialized is deprecated. Please use tf.compat.v1.is_variable_initialized instead.\n",
            "\n",
            "WARNING:tensorflow:From /usr/local/lib/python3.6/dist-packages/keras/backend/tensorflow_backend.py:223: The name tf.variables_initializer is deprecated. Please use tf.compat.v1.variables_initializer instead.\n",
            "\n",
            "60000/60000 [==============================] - 6s 92us/step - loss: 0.2603 - acc: 0.9241\n",
            "Epoch 2/5\n",
            "60000/60000 [==============================] - 5s 78us/step - loss: 0.1077 - acc: 0.9677\n",
            "Epoch 3/5\n",
            "60000/60000 [==============================] - 5s 79us/step - loss: 0.0712 - acc: 0.9785\n",
            "Epoch 4/5\n",
            "60000/60000 [==============================] - 5s 79us/step - loss: 0.0529 - acc: 0.9840\n",
            "Epoch 5/5\n",
            "60000/60000 [==============================] - 5s 78us/step - loss: 0.0400 - acc: 0.9877\n"
          ],
          "name": "stdout"
        },
        {
          "output_type": "execute_result",
          "data": {
            "text/plain": [
              "<keras.callbacks.History at 0x7f72eebaeeb8>"
            ]
          },
          "metadata": {
            "tags": []
          },
          "execution_count": 217
        }
      ]
    },
    {
      "cell_type": "code",
      "metadata": {
        "id": "JERowk2YZFSV",
        "colab_type": "code",
        "colab": {
          "base_uri": "https://localhost:8080/",
          "height": 53
        },
        "outputId": "964f4dfe-a94a-4085-848a-ee7c02fb0f30"
      },
      "source": [
        "test_loss,test_acc=network.evaluate(test_images,test_labels)\n",
        "print('test_acc:',test_acc)\n"
      ],
      "execution_count": 218,
      "outputs": [
        {
          "output_type": "stream",
          "text": [
            "10000/10000 [==============================] - 1s 56us/step\n",
            "test_acc: 0.9787\n"
          ],
          "name": "stdout"
        }
      ]
    },
    {
      "cell_type": "code",
      "metadata": {
        "id": "U8AY2fFraEhy",
        "colab_type": "code",
        "colab": {
          "base_uri": "https://localhost:8080/",
          "height": 265
        },
        "outputId": "f68e6100-b5f2-4dd7-fb51-54816d586a04"
      },
      "source": [
        "import matplotlib.pyplot as plt\n",
        "(train_images,train_labels),(test_images,test_labels)=mnist.load_data()\n",
        "\n",
        "plt.imshow(train_images[500],cmap=plt.cm.binary) #28*28 속 흑백단위\n",
        "plt.show()"
      ],
      "execution_count": 233,
      "outputs": [
        {
          "output_type": "display_data",
          "data": {
            "image/png": "[encoded data removed]",
            "text/plain": [
              "<Figure size 432x288 with 1 Axes>"
            ]
          },
          "metadata": {
            "tags": []
          }
        }
      ]
    },
    {
      "cell_type": "code",
      "metadata": {
        "id": "fvia_AaEcF_a",
        "colab_type": "code",
        "colab": {}
      },
      "source": [
        "batch =train_images[:128]\n",
        "batch =train_images[128:256]\n",
        "batch =train_images[128*n:128*(n+1)]"
      ],
      "execution_count": 0,
      "outputs": []
    },
    {
      "cell_type": "code",
      "metadata": {
        "id": "vlTfb45jfS5V",
        "colab_type": "code",
        "colab": {}
      },
      "source": [
        "def naive_relu(x):\n",
        "  assert len(x.shape) ==2  #shape 2 가 아니면 error\n",
        "  x=x.copy()\n",
        "  for i in range(x.shpae[0]):\n",
        "    for j in range(x.shape[1]):\n",
        "      x[i,j]=max(x[i,j],0)\n",
        "  return x\n",
        "\n",
        "#z=np.maximum(z,0.)  #원소별 relu 함수/numpy함수로 구현되어있다\n"
      ],
      "execution_count": 0,
      "outputs": []
    },
    {
      "cell_type": "code",
      "metadata": {
        "id": "LqOo2dAqlxD3",
        "colab_type": "code",
        "colab": {
          "base_uri": "https://localhost:8080/",
          "height": 55
        },
        "outputId": "7cb8864b-5589-4145-aad7-b90cc204f33d"
      },
      "source": [
        "def naive_add_matrix_and_vector(x,y):\n",
        "  assert len(x.shape) ==2\n",
        "  assert len(y.shape) ==1\n",
        "  assert x.shape[1]==y.shape[0]\n",
        "\n",
        "  x= x.copy\n",
        "  for i in range(x.shape[0]):\n",
        "    for j in range(x.shape[1]):\n",
        "      x[i,j]+=y[j]\n",
        "  return x"
      ],
      "execution_count": 246,
      "outputs": [
        {
          "output_type": "stream",
          "text": [
            "ERROR! Session/line number was not unique in database. History logging moved to new session 73\n"
          ],
          "name": "stdout"
        }
      ]
    },
    {
      "cell_type": "code",
      "metadata": {
        "id": "kDHj39QyhjlF",
        "colab_type": "code",
        "colab": {
          "base_uri": "https://localhost:8080/",
          "height": 35
        },
        "outputId": "ec5ff16e-0cbd-449d-83b4-e0a0593408ac"
      },
      "source": [
        "x= np.random.random((64,3,32,10))\n",
        "y= np.random.random((32,10))\n",
        "z=np.maximum(x,y)\n",
        "z.shape #조건만 맞으면 작은것이 큰것으로 브로드캐스팅된다"
      ],
      "execution_count": 256,
      "outputs": [
        {
          "output_type": "execute_result",
          "data": {
            "text/plain": [
              "(64, 3, 32, 10)"
            ]
          },
          "metadata": {
            "tags": []
          },
          "execution_count": 256
        }
      ]
    },
    {
      "cell_type": "code",
      "metadata": {
        "id": "6Xhu7o1VeaQs",
        "colab_type": "code",
        "colab": {}
      },
      "source": [
        "def naive_vector_dot(x,y):\n",
        "  assert len(x.shape)==1\n",
        "  assert len(y.shape)==1\n",
        "  assert x.shape[0] ==y.shape[0]\n",
        "\n",
        "  z=0\n",
        "  for i in range(x.shape[0]):\n",
        "    z+=x[i]*y[i]\n",
        "  return z "
      ],
      "execution_count": 0,
      "outputs": []
    },
    {
      "cell_type": "code",
      "metadata": {
        "id": "bqNG4eb7pJPe",
        "colab_type": "code",
        "colab": {
          "base_uri": "https://localhost:8080/",
          "height": 215
        },
        "outputId": "ffb78494-95dd-4ecd-dc22-3864eb4e8ca9"
      },
      "source": [
        "train_images =train_images.reshape(60000,28*28)\n",
        "train_images =train_images.astype('float32')/255 #0 과 1사이의 값으로 바꿔줌\n",
        "train_labels=to_categorical(train_labels)\n",
        "network=models.Sequential()\n",
        "\n",
        "network.add(layers.Dense(512,activation='relu', input_shape=(28*28,)))\n",
        "network.add(layers.Dense(10,activation='softmax'))\n",
        "\n",
        "network.compile(optimizer ='rmsprop',\n",
        "                loss='categorical_crossentropy',\n",
        "                metrics=['accuracy'])\n",
        "network.fit(train_images,train_labels,epochs=5,batch_size=128)"
      ],
      "execution_count": 280,
      "outputs": [
        {
          "output_type": "stream",
          "text": [
            "Epoch 1/5\n",
            "60000/60000 [==============================] - 5s 82us/step - loss: 2.3015 - acc: 0.1121\n",
            "Epoch 2/5\n",
            "60000/60000 [==============================] - 5s 79us/step - loss: 2.3014 - acc: 0.1124\n",
            "Epoch 3/5\n",
            "60000/60000 [==============================] - 5s 79us/step - loss: 2.3014 - acc: 0.1124\n",
            "Epoch 4/5\n",
            "60000/60000 [==============================] - 5s 78us/step - loss: 2.3013 - acc: 0.1124\n",
            "Epoch 5/5\n",
            "60000/60000 [==============================] - 5s 78us/step - loss: 2.3014 - acc: 0.1124\n"
          ],
          "name": "stdout"
        },
        {
          "output_type": "execute_result",
          "data": {
            "text/plain": [
              "<keras.callbacks.History at 0x7f72eeb75c50>"
            ]
          },
          "metadata": {
            "tags": []
          },
          "execution_count": 280
        }
      ]
    }
  ]
}