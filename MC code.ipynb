{
  "nbformat": 4,
  "nbformat_minor": 0,
  "metadata": {
    "colab": {
      "name": "Untitled35.ipynb",
      "provenance": [],
      "authorship_tag": "ABX9TyPuO7arqyZFLzI8or8yubDU",
      "include_colab_link": true
    },
    "kernelspec": {
      "name": "python3",
      "display_name": "Python 3"
    }
  },
  "cells": [
    {
      "cell_type": "markdown",
      "metadata": {
        "id": "view-in-github",
        "colab_type": "text"
      },
      "source": [
        "<a href=\"https://colab.research.google.com/github/anjunpil/keras_study/blob/master/MC%20code.ipynb\" target=\"_parent\"><img src=\"https://colab.research.google.com/assets/colab-badge.svg\" alt=\"Open In Colab\"/></a>"
      ]
    },
    {
      "cell_type": "code",
      "metadata": {
        "id": "vK7Sao_pvm3R",
        "colab_type": "code",
        "colab": {}
      },
      "source": [
        "# 몬테 카를로 학습방법\n",
        "\n",
        "import random\n",
        "\n",
        "# 방향성을 가진 class 생성\n",
        "class Gridworld():\n",
        "  def __init__(self):\n",
        "    self.x =0\n",
        "    self.y =0\n",
        "    self.history=[]\n",
        "\n",
        "  def move_right(self):\n",
        "      self.y+=1\n",
        "      if self.y >3:\n",
        "        self.y =3\n",
        "\n",
        "  def move_left(self):\n",
        "      self.y-=1\n",
        "      if self.y < 0:\n",
        "        self.y=0\n",
        "\n",
        "  def move_up(self):\n",
        "      self.x-=1\n",
        "      if self.x <0:\n",
        "        self.x =0\n",
        "\n",
        "  def move_down(self):\n",
        "      self.x+=1\n",
        "      if self.x >3:\n",
        "       self.x =3\n",
        "\n",
        "  def move_random(self):\n",
        "    coin = random.randint(0,3)\n",
        "    if coin == 0:\n",
        "      self.move_right()\n",
        "    elif coin ==1:\n",
        "      self.move_left()\n",
        "\n",
        "    elif coin ==2:\n",
        "      self.move_up()\n",
        "    else:\n",
        "      self.move_down()\n",
        "    \n",
        "    self.history.append((self.x,self.y))\n",
        "    \n",
        "  def move_random_until_end(self):\n",
        "    while True:\n",
        "      self.move_random()\n",
        "      # 3,3 까지 갈 함수를 구함\n",
        "      if self.x ==3 and self.y==3:\n",
        "        history = self.history\n",
        "        self.initialize()\n",
        "        return history\n",
        "    \n",
        "  def initialize(self):\n",
        "    self.x= 0\n",
        "    self.y =0\n",
        "    self.history =[]"
      ],
      "execution_count": 0,
      "outputs": []
    },
    {
      "cell_type": "code",
      "metadata": {
        "id": "RmiYxaLRvq3i",
        "colab_type": "code",
        "colab": {
          "base_uri": "https://localhost:8080/",
          "height": 647
        },
        "outputId": "cf7d98a2-d441-4fdb-b48f-820bd6ac0224"
      },
      "source": [
        "\n",
        "data =[[0,0,0,0],[0,0,0,0],[0,0,0,0],[0,0,0,0]]\n",
        "env = Gridworld()\n",
        "\n",
        "#episode 횟수\n",
        "n=1\n",
        "for i in range(5):\n",
        "  for k in range(n):\n",
        "    history = env.move_random_until_end()\n",
        "    cum_reward=0\n",
        "\n",
        "    for position in history[::-1]:\n",
        "      x,y = position\n",
        "      data[x][y] = 0.999*data[x][y] + 0.001*cum_reward\n",
        "      cum_reward+=1\n",
        "  \n",
        "  print(f\"episode ={n}\")\n",
        "  for row in range(len(data)):\n",
        "    print(\"\")\n",
        "    for row2 in data[row]:\n",
        "      print(round(row2,2),end=\"\\t\")\n",
        "  print()\n",
        "  print()\n",
        "  n=int(str(n)+\"0\")\n",
        "\n",
        "#mc를 이용"
      ],
      "execution_count": 3,
      "outputs": [
        {
          "output_type": "stream",
          "text": [
            "episode =1\n",
            "\n",
            "0.06\t0\t0\t0\t\n",
            "0.04\t0.01\t0\t0\t\n",
            "0.01\t0.01\t0.0\t0\t\n",
            "0\t0.0\t0.0\t0.0\t\n",
            "\n",
            "episode =10\n",
            "\n",
            "3.92\t2.2\t1.79\t3.6\t\n",
            "2.12\t1.51\t1.1\t1.95\t\n",
            "0.94\t1.01\t0.57\t0.58\t\n",
            "0.72\t0.55\t0.3\t0.0\t\n",
            "\n",
            "episode =100\n",
            "\n",
            "22.49\t22.74\t18.11\t15.82\t\n",
            "23.05\t22.34\t17.0\t12.61\t\n",
            "19.69\t18.05\t12.0\t6.22\t\n",
            "16.06\t14.68\t6.34\t0.0\t\n",
            "\n",
            "episode =1000\n",
            "\n",
            "50.79\t50.03\t45.99\t46.37\t\n",
            "49.19\t47.42\t42.38\t41.04\t\n",
            "47.19\t42.15\t33.48\t24.67\t\n",
            "44.35\t38.47\t23.18\t0.0\t\n",
            "\n",
            "episode =10000\n",
            "\n",
            "57.34\t54.08\t51.78\t47.8\t\n",
            "54.93\t52.17\t49.44\t43.33\t\n",
            "52.21\t47.94\t41.75\t29.38\t\n",
            "50.63\t44.49\t29.89\t0.0\t\n",
            "\n"
          ],
          "name": "stdout"
        }
      ]
    }
  ]
}