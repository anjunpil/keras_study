{
  "nbformat": 4,
  "nbformat_minor": 0,
  "metadata": {
    "colab": {
      "name": ".ipynb",
      "provenance": [],
      "authorship_tag": "ABX9TyNrcU37Wr4mE0fDd3NdFmWG",
      "include_colab_link": true
    },
    "kernelspec": {
      "name": "python3",
      "display_name": "Python 3"
    }
  },
  "cells": [
    {
      "cell_type": "markdown",
      "metadata": {
        "id": "view-in-github",
        "colab_type": "text"
      },
      "source": [
        "<a href=\"https://colab.research.google.com/github/anjunpil/keras_study/blob/master/TD%20code.ipynb\" target=\"_parent\"><img src=\"https://colab.research.google.com/assets/colab-badge.svg\" alt=\"Open In Colab\"/></a>"
      ]
    },
    {
      "cell_type": "code",
      "metadata": {
        "id": "vK7Sao_pvm3R",
        "colab_type": "code",
        "colab": {}
      },
      "source": [
        "# \n",
        "import random\n",
        "\n",
        "# 방향성을 가진 class 생성\n",
        "class Gridworld():\n",
        "  def __init__(self):\n",
        "    self.x =0\n",
        "    self.y =0\n",
        "    self.history=[]\n",
        "\n",
        "  def move_right(self):\n",
        "      self.y+=1\n",
        "      if self.y >3:\n",
        "        self.y =3\n",
        "\n",
        "  def move_left(self):\n",
        "      self.y-=1\n",
        "      if self.y < 0:\n",
        "        self.y=0\n",
        "\n",
        "  def move_up(self):\n",
        "      self.x-=1\n",
        "      if self.x <0:\n",
        "        self.x =0\n",
        "\n",
        "  def move_down(self):\n",
        "      self.x+=1\n",
        "      if self.x >3:\n",
        "       self.x =3\n",
        "\n",
        "  def move_random(self):\n",
        "    coin = random.randint(0,3)\n",
        "    if coin == 0:\n",
        "      self.move_right()\n",
        "    elif coin ==1:\n",
        "      self.move_left()\n",
        "\n",
        "    elif coin ==2:\n",
        "      self.move_up()\n",
        "    else:\n",
        "      self.move_down()\n",
        "    \n",
        "    self.history.append((self.x,self.y))\n",
        "    \n",
        "  def move_random_until_end(self):\n",
        "    while True:\n",
        "      self.move_random()\n",
        "      # 3,3 까지 갈 함수를 구함\n",
        "      if self.x ==3 and self.y==3:\n",
        "        history = self.history\n",
        "        self.initialize()\n",
        "        return history\n",
        "    \n",
        "  def initialize(self):\n",
        "    self.x= 0\n",
        "    self.y =0\n",
        "    self.history =[]"
      ],
      "execution_count": 0,
      "outputs": []
    },
    {
      "cell_type": "code",
      "metadata": {
        "id": "RmiYxaLRvq3i",
        "colab_type": "code",
        "colab": {
          "base_uri": "https://localhost:8080/",
          "height": 647
        },
        "outputId": "bf881b63-51f3-4021-f6be-c2734b0d754c"
      },
      "source": [
        "# TD 학습\n",
        "\n",
        "data =[[0,0,0,0],[0,0,0,0],[0,0,0,0],[0,0,0,0]]\n",
        "env = Gridworld()\n",
        "\n",
        "#episode 횟수\n",
        "n=1\n",
        "for i in range(5):\n",
        "  for k in range(n):\n",
        "    history = env.move_random_until_end()\n",
        "    cum_reward=0\n",
        "\n",
        "    for j in range(len(history)-1):\n",
        "      x,y = history[j]\n",
        "      next_x,next_y = history[j+1]\n",
        "      # -1 은 reward 값\n",
        "      data[x][y] = 0.99*data[x][y] +0.01*(-1+data[next_x][next_y])\n",
        "  \n",
        "  print(f\"episode ={n}\")\n",
        "  for row in range(len(data)):\n",
        "    print(\"\")\n",
        "    for row2 in data[row]:\n",
        "      print(round(row2,3),end=\"\\t\")\n",
        "      #print(100*row2,end='\\t')\n",
        "  print()\n",
        "  print()\n",
        "  n=int(str(n)+\"0\")\n",
        "  "
      ],
      "execution_count": 19,
      "outputs": [
        {
          "output_type": "stream",
          "text": [
            "episode =1\n",
            "\n",
            "-0.09\t-0.02\t0\t0\t\n",
            "-0.108\t-0.079\t-0.06\t-0.03\t\n",
            "-0.101\t-0.08\t-0.03\t-0.02\t\n",
            "-0.04\t-0.04\t0\t0\t\n",
            "\n",
            "episode =10\n",
            "\n",
            "-0.467\t-0.414\t-0.464\t-0.431\t\n",
            "-0.406\t-0.389\t-0.339\t-0.433\t\n",
            "-0.227\t-0.342\t-0.246\t-0.202\t\n",
            "-0.061\t-0.17\t-0.14\t0\t\n",
            "\n",
            "episode =100\n",
            "\n",
            "-5.446\t-4.964\t-4.238\t-3.409\t\n",
            "-4.862\t-4.492\t-3.864\t-3.033\t\n",
            "-4.184\t-3.796\t-2.958\t-1.845\t\n",
            "-3.8\t-3.258\t-2.141\t0\t\n",
            "\n",
            "episode =1000\n",
            "\n",
            "-35.484\t-33.745\t-31.015\t-29.027\t\n",
            "-33.876\t-32.029\t-28.022\t-25.389\t\n",
            "-31.408\t-28.781\t-21.99\t-15.651\t\n",
            "-29.719\t-26.603\t-17.497\t0\t\n",
            "\n",
            "episode =10000\n",
            "\n",
            "-60.67\t-58.189\t-55.095\t-52.384\t\n",
            "-58.313\t-55.105\t-50.438\t-45.811\t\n",
            "-54.496\t-49.503\t-40.192\t-29.863\t\n",
            "-51.318\t-44.632\t-27.623\t0\t\n",
            "\n"
          ],
          "name": "stdout"
        }
      ]
    }
  ]
}