{
 "cells": [
  {
   "cell_type": "code",
   "execution_count": 3,
   "metadata": {},
   "outputs": [],
   "source": [
    "import numpy as np\n",
    "from environment_q import Env\n",
    "import random\n",
    "from collections import defaultdict"
   ]
  },
  {
   "cell_type": "code",
   "execution_count": 5,
   "metadata": {},
   "outputs": [],
   "source": [
    "class QlearningAgent:\n",
    "    \n",
    "    def __init__(self,actions):\n",
    "        self.actions = actions\n",
    "        self.step_size= 0.01\n",
    "        self.discount_factor = 0.9\n",
    "        self.epsilon = 0.1\n",
    "        self.q_table = defacutdic(lambda : [0.0,0.0,0.0,0.0])\n",
    "        \n",
    "    \n",
    "    def learn(self,state,action,reward,next_state):\n",
    "        state,next_state=str(state),str(next_state)\n",
    "        #            Q(S_t,A_t)\n",
    "        q_1 = self.q_table[state][action]\n",
    "        #벨만 최적 방정식으로 q함수 업데이트\n",
    "        #     R_t+1  +         γ          *max* Q(S_t+1,a`)\n",
    "        q_2 = reward + self.discount_factor*max(self.q_table[next_state])\n",
    "        #     Q(S_t,A_t)           +=      a       *(Q(S_t,a`)-Q(S_t,A_t))\n",
    "        self.q_table[state][action]+=self.step_size*(q_2 - q_1)\n",
    "        \n",
    "    def get_action(self,state):\n",
    "        if np.random.rand() < self.epsilon:\n",
    "            action = np.random.choice(self.actions)\n",
    "        else:\n",
    "            state = str(state)\n",
    "            q_list = self.q_table[state]\n",
    "            action =arg_max(q_list)\n",
    "        return action\n",
    "\n",
    "    def arg_max(q_list):\n",
    "        max_idx_list = np.argwhere(q_list == np.amax(q_list))\n",
    "        max_idx_list = np.argmax(q_list)\n",
    "        return random.choice(max_idx_list)\n",
    "\n",
    "        \n",
    "            "
   ]
  }
 ],
 "metadata": {
  "kernelspec": {
   "display_name": "Python 3",
   "language": "python",
   "name": "python3"
  },
  "language_info": {
   "codemirror_mode": {
    "name": "ipython",
    "version": 3
   },
   "file_extension": ".py",
   "mimetype": "text/x-python",
   "name": "python",
   "nbconvert_exporter": "python",
   "pygments_lexer": "ipython3",
   "version": "3.8.3"
  }
 },
 "nbformat": 4,
 "nbformat_minor": 4
}
