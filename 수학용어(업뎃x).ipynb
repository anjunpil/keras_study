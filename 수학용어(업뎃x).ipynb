{
  "nbformat": 4,
  "nbformat_minor": 0,
  "metadata": {
    "colab": {
      "name": "Untitled29.ipynb",
      "provenance": [],
      "authorship_tag": "ABX9TyOKigqPEOPxlf3ndf/vlmLt",
      "include_colab_link": true
    },
    "kernelspec": {
      "name": "python3",
      "display_name": "Python 3"
    }
  },
  "cells": [
    {
      "cell_type": "markdown",
      "metadata": {
        "id": "view-in-github",
        "colab_type": "text"
      },
      "source": [
        "<a href=\"https://colab.research.google.com/github/anjunpil/keras_study/blob/master/Untitled29.ipynb\" target=\"_parent\"><img src=\"https://colab.research.google.com/assets/colab-badge.svg\" alt=\"Open In Colab\"/></a>"
      ]
    },
    {
      "cell_type": "markdown",
      "metadata": {
        "id": "zzixeBlv0hGG",
        "colab_type": "text"
      },
      "source": [
        "[참고사이트](https://twinw.tistory.com/247)"
      ]
    },
    {
      "cell_type": "markdown",
      "metadata": {
        "id": "BHpjgIHMxOFc",
        "colab_type": "text"
      },
      "source": [
        "## SGD ( 확률적 경사하강법)\n",
        "\n",
        "- 한번 학습할 때 모든 데이터에 대해 가중치를 조절 X , 랜덤하게 추출한 일부 데이터에 대해 가중치를 조절\n",
        "\n",
        "![사진](https://t1.daumcdn.net/cfile/tistory/99841E505B0CF53410)\n"
      ]
    },
    {
      "cell_type": "code",
      "metadata": {
        "id": "6sSJ265FxkR9",
        "colab_type": "code",
        "colab": {}
      },
      "source": [
        "#weight[i] += -learning_rate * gradient\n",
        "\n",
        "#keras.optimizers.SGD(lr=0.1)"
      ],
      "execution_count": 0,
      "outputs": []
    },
    {
      "cell_type": "markdown",
      "metadata": {
        "id": "Irb2qHJxx4oi",
        "colab_type": "text"
      },
      "source": [
        "## momentum( 모멘텀)\n",
        "\n",
        "- 관성,탄력,가속도\n",
        "- 모멘텀 SGD는 경사 하강법에 관성을 더해 주는 것\n",
        "<br>\n",
        "- 가중치를 수정하기 전 이전 수정 방향을 참고하여 같은 방향으로 일정한 비율만 수정되게 하는 방법\n",
        "\n",
        "- 수정이 양 방향,음 방향 순차적으로 지그재그 현상 줄어들고 , 이전 이동값을 고려해 일정 비율만큼 다음 값을 결정하므로 관성의 효과를 낼 수 있음\n",
        "\n",
        "![사진](https://t1.daumcdn.net/cfile/tistory/99A14F455B0CF54C21)\n",
        "\n",
        "- α는 Learning Rate, m은 momentum 계수\n",
        "- m : 모덴텀,모멘텀계수"
      ]
    },
    {
      "cell_type": "code",
      "metadata": {
        "id": "0Oub4QLmx3VV",
        "colab_type": "code",
        "colab": {}
      },
      "source": [
        "#python source\n",
        "#v = m * v -learning_rate * gradient\n",
        "#weight[i] += v\n",
        "\n",
        "#tensorflow source\n",
        "#optimize = tf.train.MomentumOptimizer(learning_rate=0.01,momentum=0.9).minimize(loss)\n",
        "\n",
        "#keras source\n",
        "#keras.optimizers.SGD(lr=0.1,momentum=0.9)"
      ],
      "execution_count": 0,
      "outputs": []
    },
    {
      "cell_type": "markdown",
      "metadata": {
        "id": "m4c74H5mzqV5",
        "colab_type": "text"
      },
      "source": [
        "## Nesterov Accelrated gradient(NAG, 네스테로프 모멘텀)"
      ]
    }
  ]
}
